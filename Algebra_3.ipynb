{
 "cells": [
  {
   "cell_type": "code",
   "execution_count": 1,
   "metadata": {},
   "outputs": [],
   "source": [
    "import numpy as np"
   ]
  },
  {
   "cell_type": "markdown",
   "metadata": {},
   "source": [
    "**1. Найти собственные векторы и собственные значения для линейного оператора, заданного матрицей**"
   ]
  },
  {
   "cell_type": "code",
   "execution_count": 18,
   "metadata": {},
   "outputs": [],
   "source": [
    "A = np.array([[-1, -6], [2, 6]])"
   ]
  },
  {
   "cell_type": "markdown",
   "metadata": {},
   "source": [
    "manually"
   ]
  },
  {
   "cell_type": "code",
   "execution_count": 19,
   "metadata": {},
   "outputs": [],
   "source": [
    "# (-1 - 𝜆) * (6 - 𝜆 ) - ((-6) * 2) = 0\n",
    "# -6 + 𝜆 - 6𝜆 + 𝜆**2 + 12 = 0\n",
    "# 𝜆**2 - 6𝜆 + 9 + 𝜆 - 3 = 0\n",
    "# (𝜆 - 3)**2 + 𝜆 - 3 =0\n",
    "# 𝜆 = 2, 3     # собственные значения:"
   ]
  },
  {
   "cell_type": "code",
   "execution_count": 24,
   "metadata": {},
   "outputs": [],
   "source": [
    "# собственные векторы\n",
    "# A * (x1 , x2) = 𝜆*(x1 , x2)\n",
    "\n",
    "# сначала 𝜆 = 2, потом 𝜆 = 3?\n",
    "\n",
    "# - x1 - 6*x2 = 2*x1       \n",
    "# 2*x1 + 6*x2 = 2*x2\n",
    "\n",
    "# -3*x1 - 6*x2 = 0\n",
    "#  2*x1 + 4*x2 = 0\n",
    "\n",
    "# x1 = - 2*x2   ???"
   ]
  },
  {
   "cell_type": "markdown",
   "metadata": {},
   "source": [
    "Python"
   ]
  },
  {
   "cell_type": "code",
   "execution_count": 5,
   "metadata": {},
   "outputs": [],
   "source": [
    "w, v = np.linalg.eig(A)"
   ]
  },
  {
   "cell_type": "code",
   "execution_count": 9,
   "metadata": {},
   "outputs": [
    {
     "name": "stdout",
     "output_type": "stream",
     "text": [
      "Собственные значения:\n",
      "[2. 3.]\n",
      "\n",
      "\n",
      "Собственные векторы:\n",
      "[[-0.89442719  0.83205029]\n",
      " [ 0.4472136  -0.5547002 ]]\n"
     ]
    }
   ],
   "source": [
    "print(f'Собственные значения:\\n{w}')\n",
    "print('\\n')\n",
    "print(f'Собственные векторы:\\n{v}')"
   ]
  },
  {
   "cell_type": "markdown",
   "metadata": {},
   "source": [
    "**2. Дан оператор поворота на 180 градусов, задаваемый матрицей. Показать, что любой вектор является для него собственным.**"
   ]
  },
  {
   "cell_type": "code",
   "execution_count": 27,
   "metadata": {},
   "outputs": [],
   "source": [
    "A = np.array([[-1, 0],[0, -1]])"
   ]
  },
  {
   "cell_type": "code",
   "execution_count": 28,
   "metadata": {},
   "outputs": [],
   "source": [
    "# (-1 - 𝜆) * (-1 - 𝜆) - 0*0 = 0\n",
    "# (-1 - 𝜆)**2 = 0\n",
    "# 𝜆 = -1         #собственное значение"
   ]
  },
  {
   "cell_type": "code",
   "execution_count": 33,
   "metadata": {},
   "outputs": [],
   "source": [
    "# A * (x1 , x2) = (-1) * (x1 , x2)"
   ]
  },
  {
   "cell_type": "markdown",
   "metadata": {},
   "source": [
    "Ответ: То есть мы получаем A / (-1) = -A, то есть x1 и x2 сокращаются |=> мы можем задать любое значение x1 и x2"
   ]
  },
  {
   "cell_type": "markdown",
   "metadata": {},
   "source": [
    "**3. Пусть линейный оператор задан матрицей**"
   ]
  },
  {
   "cell_type": "code",
   "execution_count": 13,
   "metadata": {},
   "outputs": [],
   "source": [
    "A = np.array([[1, 1], [-1,3]])"
   ]
  },
  {
   "cell_type": "markdown",
   "metadata": {},
   "source": [
    "**Установить, является ли вектор  𝑥=(1,1)  собственным вектором этого линейного оператора.**"
   ]
  },
  {
   "cell_type": "markdown",
   "metadata": {},
   "source": [
    "**Решение:** Предположим, что вектор  𝑥  является собственным вектором заданного линейного оператора, тогда должно существовать некоторое вещественное число  𝜆 , при котором"
   ]
  },
  {
   "cell_type": "code",
   "execution_count": 32,
   "metadata": {},
   "outputs": [],
   "source": [
    "# A * x = 𝜆 * x => \n",
    "# 1 + 1 = 𝜆, -1 + 3 = 𝜆\n",
    "# 𝜆 = 2 |=> \n",
    "# 𝑥=(1,1) является собственным вектором линейного оператора A  и его собственное значение 𝜆 = 2"
   ]
  },
  {
   "cell_type": "markdown",
   "metadata": {},
   "source": [
    "**4. Пусть линейный оператор задан матрицей**"
   ]
  },
  {
   "cell_type": "code",
   "execution_count": 14,
   "metadata": {},
   "outputs": [],
   "source": [
    "A = np.array([[0,3,0],[3,0,0],[0,0,3]])"
   ]
  },
  {
   "cell_type": "markdown",
   "metadata": {},
   "source": [
    "**Установить, является ли вектор  𝑥=(3,−3,−4)  собственным вектором этого линейного оператора.**"
   ]
  },
  {
   "cell_type": "code",
   "execution_count": 34,
   "metadata": {},
   "outputs": [],
   "source": [
    "# A * x = 𝜆 * x => \n",
    "\n",
    "# 0*3 + 3*(-3) + 0*(-4) = 3𝜆\n",
    "# 3*3 + 0*(-3) + 0*(-4) = -3𝜆\n",
    "# 0*3 + 0*(-3) + 3*(-4) = -4𝜆\n",
    "\n",
    "#𝜆 = -3\n",
    "#𝜆 = -3\n",
    "#𝜆 = 3\n",
    "\n",
    "\n",
    "#|=> система не имеет смысла, 𝑥=(3,−3,−4) неявляется собственным вектором линейного оператора A"
   ]
  }
 ],
 "metadata": {
  "kernelspec": {
   "display_name": "Python 3",
   "language": "python",
   "name": "python3"
  },
  "language_info": {
   "codemirror_mode": {
    "name": "ipython",
    "version": 3
   },
   "file_extension": ".py",
   "mimetype": "text/x-python",
   "name": "python",
   "nbconvert_exporter": "python",
   "pygments_lexer": "ipython3",
   "version": "3.7.4"
  }
 },
 "nbformat": 4,
 "nbformat_minor": 2
}
