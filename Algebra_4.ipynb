{
 "cells": [
  {
   "cell_type": "code",
   "execution_count": 61,
   "metadata": {},
   "outputs": [],
   "source": [
    "import numpy as np\n",
    "import scipy\n",
    "import scipy.linalg"
   ]
  },
  {
   "cell_type": "markdown",
   "metadata": {},
   "source": [
    "**1. Решить систему уравнений методом Гаусса:**\n",
    "\n",
    "𝑥1+𝑥2−𝑥3−2𝑥4 = 0\n",
    "\n",
    "2𝑥1+𝑥2−𝑥3+𝑥4 = −2\n",
    "\n",
    "𝑥1+𝑥2−3𝑥3+𝑥4 = 4"
   ]
  },
  {
   "cell_type": "markdown",
   "metadata": {},
   "source": [
    " |1 1 -1 -2 | 0 |          \n",
    "\n",
    " |2 1 -1  1 | -2|          \n",
    " \n",
    " |1 1 -3  1 | 4 |      "
   ]
  },
  {
   "cell_type": "markdown",
   "metadata": {},
   "source": [
    "|1 1 -1 -2 | 0 |\n",
    "\n",
    "|0 -1 1  5 | -2| \n",
    "\n",
    "|0 0 -2  3 | 4 |  \n",
    "\n",
    "#1.ранг (обычной) = 3\n",
    "#1.ранг (расширенной) = 3\n",
    "\n",
    "**Ответ: ранг (обычной) = ранг (расширенной) | => бесконечное кол-во решений**"
   ]
  },
  {
   "cell_type": "markdown",
   "metadata": {},
   "source": [
    "**2. Проверить на совместность и выяснить, сколько решений будет иметь система линейных уравнений:**"
   ]
  },
  {
   "cell_type": "markdown",
   "metadata": {},
   "source": [
    "**Задание 1**"
   ]
  },
  {
   "cell_type": "code",
   "execution_count": 9,
   "metadata": {},
   "outputs": [],
   "source": [
    "A_ext = np.array([[3,-1, 1, 4],[2, -5, -3, -17],[1, 1, -1, 0]])\n",
    "A = np.array([[3,-1, 1],[2, -5, -3],[1, 1, -1]])\n",
    "rank = np.linalg.matrix_rank(A)\n",
    "rank_ext = np.linalg.matrix_rank(A_ext)"
   ]
  },
  {
   "cell_type": "code",
   "execution_count": 14,
   "metadata": {},
   "outputs": [
    {
     "name": "stdout",
     "output_type": "stream",
     "text": [
      "Task 1: rank = 3, rank_extended: 3\n"
     ]
    },
    {
     "data": {
      "text/plain": [
       "True"
      ]
     },
     "execution_count": 14,
     "metadata": {},
     "output_type": "execute_result"
    }
   ],
   "source": [
    "print(f'Task 1: rank = {rank}, rank_extended: {rank_ext}')\n",
    "\n",
    "rank == rank_ext  #система определена, т. е. имеет единственное решение "
   ]
  },
  {
   "cell_type": "markdown",
   "metadata": {},
   "source": [
    "**Задание 2**"
   ]
  },
  {
   "cell_type": "code",
   "execution_count": 16,
   "metadata": {},
   "outputs": [],
   "source": [
    "A_ext = np.array([[2, -4, 6, 1],[1, -2, 3, -2],[3, -6, 9, 5]])\n",
    "A = np.array([[2, -4, 6],[1, -2, 3],[3, -6, 9]])\n",
    "rank = np.linalg.matrix_rank(A)\n",
    "rank_ext = np.linalg.matrix_rank(A_ext)"
   ]
  },
  {
   "cell_type": "code",
   "execution_count": 18,
   "metadata": {},
   "outputs": [
    {
     "name": "stdout",
     "output_type": "stream",
     "text": [
      "Task 2: rank = 1, rank_extended: 2\n"
     ]
    },
    {
     "data": {
      "text/plain": [
       "True"
      ]
     },
     "execution_count": 18,
     "metadata": {},
     "output_type": "execute_result"
    }
   ],
   "source": [
    "print(f'Task 2: rank = {rank}, rank_extended: {rank_ext}')\n",
    "\n",
    "rank != rank_ext  #система несовместна"
   ]
  },
  {
   "cell_type": "markdown",
   "metadata": {},
   "source": [
    "**Задание 3**"
   ]
  },
  {
   "cell_type": "code",
   "execution_count": 19,
   "metadata": {},
   "outputs": [],
   "source": [
    "A_ext = np.array([[1, 2, 5, 4], [3, 1, -8, -2]])\n",
    "A = np.array([[1, 2, 5], [3, 1, -8]])\n",
    "rank = np.linalg.matrix_rank(A)\n",
    "rank_ext = np.linalg.matrix_rank(A_ext)"
   ]
  },
  {
   "cell_type": "code",
   "execution_count": 22,
   "metadata": {},
   "outputs": [
    {
     "name": "stdout",
     "output_type": "stream",
     "text": [
      "Task 3: rank = 2, rank_extended: 2\n"
     ]
    },
    {
     "data": {
      "text/plain": [
       "True"
      ]
     },
     "execution_count": 22,
     "metadata": {},
     "output_type": "execute_result"
    }
   ],
   "source": [
    "print(f'Task 3: rank = {rank}, rank_extended: {rank_ext}')\n",
    "\n",
    "rank == rank_ext   #система имеет бесконечное количество решений, потому что ранг меньше кол-ва неизвестных"
   ]
  },
  {
   "cell_type": "markdown",
   "metadata": {},
   "source": [
    "**3. Проверить на совместность и выяснить, сколько решений будет иметь система линейных уравнений, заданная расширенной матрицей**"
   ]
  },
  {
   "cell_type": "code",
   "execution_count": 28,
   "metadata": {},
   "outputs": [
    {
     "data": {
      "text/plain": [
       "array([[ 1,  3, -2,  4,  3],\n",
       "       [ 0,  5,  0,  1,  2],\n",
       "       [ 0,  0,  3,  0,  4],\n",
       "       [ 0,  0,  0,  2,  1]])"
      ]
     },
     "execution_count": 28,
     "metadata": {},
     "output_type": "execute_result"
    }
   ],
   "source": [
    "A_ext = np.array([[1, 3, -2, 4, 3],[0, 5, 0, 1, 2],[0, 0, 3, 0, 4],[0, 0, 0, 2,1]])\n",
    "A_ext"
   ]
  },
  {
   "cell_type": "code",
   "execution_count": 29,
   "metadata": {},
   "outputs": [],
   "source": [
    "rank_ext = 4   #1*5*3*2=30 != 0\n",
    "rank = 4\n",
    "n = 4 "
   ]
  },
  {
   "cell_type": "markdown",
   "metadata": {},
   "source": [
    "Ответ: система определена, т. е. имеет единственное решение, т.к rank_ext = rank = n (кол-во неизвестных)"
   ]
  },
  {
   "cell_type": "markdown",
   "metadata": {},
   "source": [
    "**4. Дана система линейных уравнений, заданная расширенной матрицей**"
   ]
  },
  {
   "cell_type": "markdown",
   "metadata": {},
   "source": [
    " |1 2 3| a |          \n",
    "\n",
    " |4 5 6| b |          \n",
    " \n",
    " |7 8 9| c |    "
   ]
  },
  {
   "cell_type": "markdown",
   "metadata": {},
   "source": [
    "**Найти соотношение между параметрами  𝑎 ,  𝑏  и  𝑐 , при которых система является несовместной.**"
   ]
  },
  {
   "cell_type": "markdown",
   "metadata": {},
   "source": [
    "|1 2 3| a |\n",
    "\n",
    "|4 5 6| b |\n",
    "\n",
    "|7 8 9| c |"
   ]
  },
  {
   "cell_type": "markdown",
   "metadata": {},
   "source": [
    "|1  2  3| a |\n",
    "\n",
    "|0 -3 -6| b - 4a |\n",
    "\n",
    "|0  0  0| a + c - 2b |"
   ]
  },
  {
   "cell_type": "markdown",
   "metadata": {},
   "source": [
    "**Ответ:** система является несовместной при a + c - 2b = 0"
   ]
  },
  {
   "cell_type": "markdown",
   "metadata": {},
   "source": [
    "**5. Решить систему уравнений методом Крамера:**\n",
    "\n",
    "𝑥1−2𝑥2=1\n",
    "\n",
    "3𝑥1−4𝑥2=7"
   ]
  },
  {
   "cell_type": "code",
   "execution_count": 30,
   "metadata": {},
   "outputs": [],
   "source": [
    "A = np.array([[1, -2], [3, -4]])"
   ]
  },
  {
   "cell_type": "code",
   "execution_count": 32,
   "metadata": {},
   "outputs": [
    {
     "data": {
      "text/plain": [
       "2"
      ]
     },
     "execution_count": 32,
     "metadata": {},
     "output_type": "execute_result"
    }
   ],
   "source": [
    "det_A = 1*(-4) - (-2)*3 #определитель\n",
    "det_A                   #система совместна"
   ]
  },
  {
   "cell_type": "code",
   "execution_count": 34,
   "metadata": {},
   "outputs": [
    {
     "data": {
      "text/plain": [
       "10"
      ]
     },
     "execution_count": 34,
     "metadata": {},
     "output_type": "execute_result"
    }
   ],
   "source": [
    "A_1 = np.array([[1, -2], [7, -4]])\n",
    "det_A_1 = 1*(-4) - (-2)*7\n",
    "det_A_1 "
   ]
  },
  {
   "cell_type": "code",
   "execution_count": 35,
   "metadata": {},
   "outputs": [
    {
     "data": {
      "text/plain": [
       "4"
      ]
     },
     "execution_count": 35,
     "metadata": {},
     "output_type": "execute_result"
    }
   ],
   "source": [
    "A_2 = np.array([[1, 1], [3, 7]])\n",
    "det_A_2 = 1*7 - 1*3\n",
    "det_A_2 "
   ]
  },
  {
   "cell_type": "code",
   "execution_count": 40,
   "metadata": {},
   "outputs": [
    {
     "name": "stdout",
     "output_type": "stream",
     "text": [
      "x1 = 5.0, x2 = 2.0\n"
     ]
    }
   ],
   "source": [
    "x1 = det_A_1 / det_A\n",
    "x2 =det_A_2 / det_A\n",
    "print(f'x1 = {x1}, x2 = {x2}')"
   ]
  },
  {
   "cell_type": "markdown",
   "metadata": {},
   "source": [
    "2𝑥1−𝑥2+5𝑥3=10\n",
    "\n",
    "𝑥1+𝑥2−3𝑥3=−2\n",
    "\n",
    "2𝑥1+4𝑥2+𝑥3=1"
   ]
  },
  {
   "cell_type": "code",
   "execution_count": 42,
   "metadata": {},
   "outputs": [],
   "source": [
    "B = np.array([[2, -1, 5], [1, 1, -3], [2, 4, 1]])"
   ]
  },
  {
   "cell_type": "code",
   "execution_count": 43,
   "metadata": {},
   "outputs": [
    {
     "data": {
      "text/plain": [
       "42.99999999999998"
      ]
     },
     "execution_count": 43,
     "metadata": {},
     "output_type": "execute_result"
    }
   ],
   "source": [
    "det_B = np.linalg.det(B)  #определитель\n",
    "det_B                     #система совместна"
   ]
  },
  {
   "cell_type": "code",
   "execution_count": 45,
   "metadata": {},
   "outputs": [
    {
     "data": {
      "text/plain": [
       "86.00000000000004"
      ]
     },
     "execution_count": 45,
     "metadata": {},
     "output_type": "execute_result"
    }
   ],
   "source": [
    "B_1 = np.array([[10, -1, 5], [-2, 1, -3], [1, 4, 1]])\n",
    "det_B_1 = np.linalg.det(B_1)  \n",
    "det_B_1"
   ]
  },
  {
   "cell_type": "code",
   "execution_count": 46,
   "metadata": {},
   "outputs": [
    {
     "data": {
      "text/plain": [
       "-43.000000000000014"
      ]
     },
     "execution_count": 46,
     "metadata": {},
     "output_type": "execute_result"
    }
   ],
   "source": [
    "B_2 = np.array([[2, 10, 5], [1, -2, -3], [2, 1, 1]])\n",
    "det_B_2 = np.linalg.det(B_2)  \n",
    "det_B_2"
   ]
  },
  {
   "cell_type": "code",
   "execution_count": 47,
   "metadata": {},
   "outputs": [
    {
     "data": {
      "text/plain": [
       "42.99999999999998"
      ]
     },
     "execution_count": 47,
     "metadata": {},
     "output_type": "execute_result"
    }
   ],
   "source": [
    "B_3 = np.array([[2, -1, 10], [1, 1, -2], [2, 4, 1]])\n",
    "det_B_3 = np.linalg.det(B_3)  \n",
    "det_B_3"
   ]
  },
  {
   "cell_type": "code",
   "execution_count": 53,
   "metadata": {},
   "outputs": [
    {
     "name": "stdout",
     "output_type": "stream",
     "text": [
      "x1 = 2, x2 = -1 x2 = 1\n"
     ]
    }
   ],
   "source": [
    "x1 = det_B_1 / det_B\n",
    "x2 =det_B_2 / det_B\n",
    "x3 =det_B_3 / det_B\n",
    "print(f'x1 = {x1:.0f}, x2 = {x2:.0f} x2 = {x3:.0f}')"
   ]
  },
  {
   "cell_type": "markdown",
   "metadata": {},
   "source": [
    "**6. Найти  𝐿 -матрицу  𝐿𝑈 -разложения для матрицы коэффициентов:**"
   ]
  },
  {
   "cell_type": "code",
   "execution_count": 67,
   "metadata": {},
   "outputs": [
    {
     "data": {
      "text/plain": [
       "array([[ 1,  2,  4],\n",
       "       [ 2,  9, 12],\n",
       "       [ 3, 26, 30]])"
      ]
     },
     "execution_count": 67,
     "metadata": {},
     "output_type": "execute_result"
    }
   ],
   "source": [
    "A = np.array([[1, 2, 4], [2, 9, 12], [3, 26, 30]])\n",
    "A"
   ]
  },
  {
   "cell_type": "code",
   "execution_count": 68,
   "metadata": {},
   "outputs": [
    {
     "name": "stdout",
     "output_type": "stream",
     "text": [
      "[[1.         0.         0.        ]\n",
      " [0.66666667 1.         0.        ]\n",
      " [0.33333333 0.8        1.        ]]\n"
     ]
    }
   ],
   "source": [
    "P, L, U = scipy.linalg.lu(A)\n",
    "print(L)"
   ]
  },
  {
   "cell_type": "code",
   "execution_count": 65,
   "metadata": {},
   "outputs": [
    {
     "data": {
      "text/plain": [
       "array([[ 1,  1,  2,  4],\n",
       "       [ 2,  5,  8,  9],\n",
       "       [ 3, 18, 29, 18],\n",
       "       [ 4, 22, 53, 33]])"
      ]
     },
     "execution_count": 65,
     "metadata": {},
     "output_type": "execute_result"
    }
   ],
   "source": [
    "B = np.array([[1, 1, 2, 4], [2, 5, 8, 9], [3, 18, 29, 18], [4, 22, 53, 33]])\n",
    "B"
   ]
  },
  {
   "cell_type": "code",
   "execution_count": 66,
   "metadata": {},
   "outputs": [
    {
     "name": "stdout",
     "output_type": "stream",
     "text": [
      "[[ 1.          0.          0.          0.        ]\n",
      " [ 0.5         1.          0.          0.        ]\n",
      " [ 0.75       -0.25        1.          0.        ]\n",
      " [ 0.25        0.75       -0.17073171  1.        ]]\n"
     ]
    }
   ],
   "source": [
    "P, L, U = scipy.linalg.lu(B)\n",
    "print(L)"
   ]
  },
  {
   "cell_type": "markdown",
   "metadata": {},
   "source": [
    "**7. Решить систему линейных уравнений методом  𝐿𝑈 -разложения**"
   ]
  },
  {
   "cell_type": "markdown",
   "metadata": {},
   "source": [
    "2𝑥1+𝑥2+3𝑥3=1\n",
    "\n",
    "11𝑥1+7𝑥2+5𝑥3=−6\n",
    "\n",
    "9𝑥1+8𝑥2+4𝑥3=−5"
   ]
  },
  {
   "cell_type": "code",
   "execution_count": 69,
   "metadata": {},
   "outputs": [
    {
     "data": {
      "text/plain": [
       "array([[ 2,  1,  3],\n",
       "       [11,  7,  5],\n",
       "       [ 9,  8,  4]])"
      ]
     },
     "execution_count": 69,
     "metadata": {},
     "output_type": "execute_result"
    }
   ],
   "source": [
    "A = np.array([[2, 1, 3], [11, 7, 5], [9, 8, 4]])\n",
    "A"
   ]
  },
  {
   "cell_type": "markdown",
   "metadata": {},
   "source": [
    "|2  1 3|\n",
    "\n",
    "|11 7 5|\n",
    "\n",
    "|9  8 4|"
   ]
  },
  {
   "cell_type": "code",
   "execution_count": 71,
   "metadata": {},
   "outputs": [
    {
     "name": "stdout",
     "output_type": "stream",
     "text": [
      "[[ 1.          0.          0.        ]\n",
      " [ 0.81818182  1.          0.        ]\n",
      " [ 0.18181818 -0.12        1.        ]]\n"
     ]
    }
   ],
   "source": [
    "P, L, U = scipy.linalg.lu(A)\n",
    "print(L)"
   ]
  },
  {
   "cell_type": "code",
   "execution_count": 72,
   "metadata": {},
   "outputs": [
    {
     "name": "stdout",
     "output_type": "stream",
     "text": [
      "[[11.          7.          5.        ]\n",
      " [ 0.          2.27272727 -0.09090909]\n",
      " [ 0.          0.          2.08      ]]\n"
     ]
    }
   ],
   "source": [
    "print(U)"
   ]
  },
  {
   "cell_type": "markdown",
   "metadata": {},
   "source": [
    "y1 = 1\n",
    "0.82*y1 + y2 = -6                #y2 = - 6.82\n",
    "0.18*y1 - 0.12*y2 + y3 = -5      #y3 = 6"
   ]
  },
  {
   "cell_type": "markdown",
   "metadata": {},
   "source": [
    "11*x1 + 7*x2 + 5*x3 = 1           # x1 = 0.62\n",
    "2.27*x2 + (-0.09)*x3 = (- 6.82)   # x2 = -2.89\n",
    "2.08*x3 = 6                       # x3 = 2.88"
   ]
  },
  {
   "cell_type": "markdown",
   "metadata": {},
   "source": [
    "**Не ясно, где ошибка**"
   ]
  },
  {
   "cell_type": "code",
   "execution_count": null,
   "metadata": {},
   "outputs": [],
   "source": []
  }
 ],
 "metadata": {
  "kernelspec": {
   "display_name": "Python 3",
   "language": "python",
   "name": "python3"
  },
  "language_info": {
   "codemirror_mode": {
    "name": "ipython",
    "version": 3
   },
   "file_extension": ".py",
   "mimetype": "text/x-python",
   "name": "python",
   "nbconvert_exporter": "python",
   "pygments_lexer": "ipython3",
   "version": "3.7.4"
  }
 },
 "nbformat": 4,
 "nbformat_minor": 2
}
