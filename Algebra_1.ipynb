{
 "cells": [
  {
   "cell_type": "code",
   "execution_count": 146,
   "metadata": {},
   "outputs": [],
   "source": [
    "import math\n",
    "import numpy as np\n",
    "import random\n",
    "from numpy.linalg import norm"
   ]
  },
  {
   "cell_type": "markdown",
   "metadata": {},
   "source": [
    "**1. Исследовать на линейную зависимость:\n",
    "𝑓1(𝑥)=𝑒^𝑥, 𝑓2(𝑥)=1, 𝑓3(𝑥)=𝑥+1, 𝑓4(𝑥)=𝑥−𝑒^𝑥.**"
   ]
  },
  {
   "cell_type": "markdown",
   "metadata": {},
   "source": [
    "**1 option**"
   ]
  },
  {
   "cell_type": "code",
   "execution_count": 74,
   "metadata": {},
   "outputs": [],
   "source": [
    "x = random.randint(1,100)"
   ]
  },
  {
   "cell_type": "code",
   "execution_count": 75,
   "metadata": {},
   "outputs": [],
   "source": [
    "f1 = np.exp(x)\n",
    "f2 = 1\n",
    "f3 = x + 1\n",
    "\n",
    "f4 = x - np.exp(x)"
   ]
  },
  {
   "cell_type": "code",
   "execution_count": 76,
   "metadata": {},
   "outputs": [
    {
     "data": {
      "text/plain": [
       "True"
      ]
     },
     "execution_count": 76,
     "metadata": {},
     "output_type": "execute_result"
    }
   ],
   "source": [
    "f4 == f3 - f2 - f1    ## f4 и f1, f2, f3 линейно зависимы"
   ]
  },
  {
   "cell_type": "markdown",
   "metadata": {},
   "source": [
    "**2. Исследовать на линейную зависимость:\n",
    "𝑓1(𝑥)=2, 𝑓2(𝑥)=𝑥, 𝑓3(𝑥)=𝑥^2, 𝑓4(𝑥)=(𝑥+1)^2.**"
   ]
  },
  {
   "cell_type": "code",
   "execution_count": 117,
   "metadata": {},
   "outputs": [],
   "source": [
    "f1 = 2\n",
    "f2 = x\n",
    "f3 = x**2 \n",
    "\n",
    "f4 = x**2 + 2*x + 1     ## 𝑓4 = (𝑥+1)^2 = x^2+2x+1"
   ]
  },
  {
   "cell_type": "code",
   "execution_count": 118,
   "metadata": {},
   "outputs": [
    {
     "data": {
      "text/plain": [
       "True"
      ]
     },
     "execution_count": 118,
     "metadata": {},
     "output_type": "execute_result"
    }
   ],
   "source": [
    "f4 == f3 + 2*f2 + f1/2  ## f4 и f1, f2, f3 линейно зависимы"
   ]
  },
  {
   "cell_type": "markdown",
   "metadata": {},
   "source": [
    "**3. Найти координаты вектора  𝑥=(2,3,5)∈ℝ3  в базисе  𝑏1=(0,0,10) ,  𝑏2=(2,0,0) ,  𝑏3=(0,1,0).**"
   ]
  },
  {
   "cell_type": "markdown",
   "metadata": {},
   "source": [
    "Решение: x = 0.5*b1 + b2 + 3*b3 ;  x=(0.5, 1, 3)"
   ]
  },
  {
   "cell_type": "markdown",
   "metadata": {},
   "source": [
    "**4. Найти координаты вектора  3𝑥2−2𝑥+2∈ℝ3[𝑥] :**\n",
    "\n",
    "а) в базисе  1 ,  𝑥 ,  𝑥2 ;\n",
    "\n",
    "б) в базисе  𝑥2 ,  𝑥−1 ,  1 ."
   ]
  },
  {
   "cell_type": "markdown",
   "metadata": {},
   "source": [
    "**Решение:** a) (2, -2, 3) б) (3, -2, 0)"
   ]
  },
  {
   "cell_type": "markdown",
   "metadata": {},
   "source": [
    "**5. Установить, является ли линейным подпространством:**\n",
    "\n",
    "а) совокупность всех векторов трехмерного пространства, у которых по крайней мере одна из первых двух координат равна нулю;\n",
    "\n",
    "б) все векторы, являющиеся линейными комбинациями данных векторов  {𝑢1,𝑢2,...,𝑢𝑛} ."
   ]
  },
  {
   "cell_type": "markdown",
   "metadata": {},
   "source": [
    "**Решение:** \n",
    "\n",
    "**a)** (0, b, c) + (0, e, f) = (0, b+e, c+f)\n",
    "\n",
    "   b*(0,b,c) = (0, bb, bc)\n",
    "   \n",
    "   (a, 0, c) + (d, 0, f) = (a+d, 0, c+f)\n",
    "   \n",
    "   a*(a,0,c) = (aa, 0, ac)\n",
    "   \n",
    "   Полученные векторы в обоих случаях, также принадлежат указанному в задании множеству всех векторов вида (0, b, c) или (a, 0, c),\n",
    "   то есть данное множество является подпространством линейного пространства R^3\n",
    "    \n",
    "    \n",
    "\n"
   ]
  },
  {
   "cell_type": "markdown",
   "metadata": {},
   "source": [
    "**6. Найти скалярное произведение векторов**\n",
    "\n",
    "𝑥,𝑦∈ℝ :\n",
    "\n",
    "а)  𝑥=(0,−3,6), 𝑦=(−4,7,9);\n",
    "\n",
    "б)  𝑥=(7,−4,0,1), 𝑦=(−3,1,11,2)."
   ]
  },
  {
   "cell_type": "code",
   "execution_count": 126,
   "metadata": {},
   "outputs": [],
   "source": [
    "𝑥 = np.array([0, -3, 6])\n",
    "𝑦 = np.array([-4, 7, 9])"
   ]
  },
  {
   "cell_type": "code",
   "execution_count": 127,
   "metadata": {},
   "outputs": [
    {
     "data": {
      "text/plain": [
       "33"
      ]
     },
     "execution_count": 127,
     "metadata": {},
     "output_type": "execute_result"
    }
   ],
   "source": [
    "np.dot(x,y)     # 0*(-4) + (-21) + 54 = 33"
   ]
  },
  {
   "cell_type": "code",
   "execution_count": 128,
   "metadata": {},
   "outputs": [],
   "source": [
    "𝑥 = np.array([7, -4, 0, 1]) \n",
    "𝑦 = np.array([-3, 1, 11, 2])"
   ]
  },
  {
   "cell_type": "code",
   "execution_count": 130,
   "metadata": {},
   "outputs": [
    {
     "data": {
      "text/plain": [
       "-23"
      ]
     },
     "execution_count": 130,
     "metadata": {},
     "output_type": "execute_result"
    }
   ],
   "source": [
    "np.dot(x,y)     #7*(-3) + (-4)*1 + 0*11 + 1*2 = -21 -4 +2 = -23"
   ]
  },
  {
   "cell_type": "markdown",
   "metadata": {},
   "source": [
    "**7. Найти нормы векторов  (4,2,4)  и  (12,3,4)  и угол между ними.**"
   ]
  },
  {
   "cell_type": "code",
   "execution_count": 139,
   "metadata": {},
   "outputs": [],
   "source": [
    "x = np.array([4,2,4])\n",
    "y = np.array([12,3,4])"
   ]
  },
  {
   "cell_type": "code",
   "execution_count": 143,
   "metadata": {},
   "outputs": [
    {
     "data": {
      "text/plain": [
       "(10, 19)"
      ]
     },
     "execution_count": 143,
     "metadata": {},
     "output_type": "execute_result"
    }
   ],
   "source": [
    "x_norm = sum([abs(number) for number in x])\n",
    "y_norm = sum([abs(number) for number in y])\n",
    "x_norm, y_norm       ## манхетанская норма вручную"
   ]
  },
  {
   "cell_type": "code",
   "execution_count": 148,
   "metadata": {},
   "outputs": [
    {
     "name": "stdout",
     "output_type": "stream",
     "text": [
      "l1 норма векторов x и y соответственно:\n",
      "(10.0, 19.0)\n"
     ]
    }
   ],
   "source": [
    "print(f'l1 норма векторов x и y соответственно:\\n{norm(x, ord = 1), norm(y, ord = 1)}') ## манхетанская норма"
   ]
  },
  {
   "cell_type": "code",
   "execution_count": 150,
   "metadata": {},
   "outputs": [
    {
     "data": {
      "text/plain": [
       "(6.0, 13.0)"
      ]
     },
     "execution_count": 150,
     "metadata": {},
     "output_type": "execute_result"
    }
   ],
   "source": [
    "x_norm_2 = math.sqrt(sum([number**2 for number in x]))\n",
    "y_norm_2 = math.sqrt(sum([number**2 for number in y]))\n",
    "x_norm_2, y_norm_2       ## евклидова норма (90% случаев используем ее) вручную "
   ]
  },
  {
   "cell_type": "code",
   "execution_count": 154,
   "metadata": {},
   "outputs": [
    {
     "name": "stdout",
     "output_type": "stream",
     "text": [
      "l2 норма векторов x и y соответственно:\n",
      "(6.0, 13.0)\n"
     ]
    }
   ],
   "source": [
    "print(f'l2 норма векторов x и y соответственно:\\n{norm(x, ord = 2), norm(y, ord = 2)}') ## евклидова норма"
   ]
  },
  {
   "cell_type": "markdown",
   "metadata": {},
   "source": [
    "**угол между ними:**"
   ]
  },
  {
   "cell_type": "code",
   "execution_count": 155,
   "metadata": {},
   "outputs": [
    {
     "data": {
      "text/plain": [
       "0.8974358974358975"
      ]
     },
     "execution_count": 155,
     "metadata": {},
     "output_type": "execute_result"
    }
   ],
   "source": [
    "cos_phi = np.dot(x,y) / (norm(x)*norm(y))\n",
    "cos_phi             ##cos угла между x и y"
   ]
  },
  {
   "cell_type": "code",
   "execution_count": 160,
   "metadata": {},
   "outputs": [
    {
     "name": "stdout",
     "output_type": "stream",
     "text": [
      "угол между x и y = 0.46\n"
     ]
    }
   ],
   "source": [
    "print(f'угол между x и y = {np.arccos(cos_phi):.2f}')    ## угол между x и y"
   ]
  },
  {
   "cell_type": "markdown",
   "metadata": {},
   "source": [
    "**8. Будет ли линейное пространство евклидовым, если за скалярное произведение принять:**\n",
    "\n",
    "а) произведение длин векторов;\n",
    "б) утроенное обычное скалярное произведение векторов?"
   ]
  },
  {
   "cell_type": "markdown",
   "metadata": {},
   "source": [
    "**9. Какие из нижеперечисленных векторов образуют ортонормированный базис в линейном пространстве  ℝ3 :**\n",
    "\n",
    "а)  (1,0,0),(0,0,1); \n",
    "\n",
    "б)  (1/2‾√,−1/2‾√,0),(1/2‾√,1/2‾√,0),(0,0,1);\n",
    "\n",
    "в)  (1/2,−1/2,0),(0,1/2,1/2),(0,0,1); \n",
    "\n",
    "г)  (1,0,0),(0,1,0),(0,0,1)?"
   ]
  },
  {
   "cell_type": "code",
   "execution_count": 161,
   "metadata": {},
   "outputs": [],
   "source": [
    "x = np.array([1,0,0])\n",
    "y = np.array([0,0,1])"
   ]
  },
  {
   "cell_type": "code",
   "execution_count": 162,
   "metadata": {},
   "outputs": [
    {
     "data": {
      "text/plain": [
       "0.0"
      ]
     },
     "execution_count": 162,
     "metadata": {},
     "output_type": "execute_result"
    }
   ],
   "source": [
    "cos_phi = np.dot(x,y) / (norm(x)*norm(y))\n",
    "cos_phi                 #0 => образуют"
   ]
  },
  {
   "cell_type": "code",
   "execution_count": 163,
   "metadata": {},
   "outputs": [],
   "source": [
    "x = np.array([1/math.sqrt(2),-1/math.sqrt(2),0])\n",
    "y = np.array([1/math.sqrt(2),1/math.sqrt(2),1])\n",
    "z = np.array([0,0,1])"
   ]
  },
  {
   "cell_type": "code",
   "execution_count": 165,
   "metadata": {},
   "outputs": [
    {
     "data": {
      "text/plain": [
       "0.0"
      ]
     },
     "execution_count": 165,
     "metadata": {},
     "output_type": "execute_result"
    }
   ],
   "source": [
    "cos_phi = np.dot(x,y) / (norm(x)*norm(y)*norm(z))\n",
    "cos_phi                 #0 => образуют"
   ]
  },
  {
   "cell_type": "code",
   "execution_count": 166,
   "metadata": {},
   "outputs": [],
   "source": [
    "x = np.array([1/2,-1/2,0])\n",
    "y = np.array([1/2,1/2,1])\n",
    "z = np.array([0,0,1])"
   ]
  },
  {
   "cell_type": "code",
   "execution_count": 167,
   "metadata": {},
   "outputs": [
    {
     "data": {
      "text/plain": [
       "0.0"
      ]
     },
     "execution_count": 167,
     "metadata": {},
     "output_type": "execute_result"
    }
   ],
   "source": [
    "cos_phi = np.dot(x,y) / (norm(x)*norm(y)*norm(z))\n",
    "cos_phi                 #0 => образуют"
   ]
  },
  {
   "cell_type": "code",
   "execution_count": 168,
   "metadata": {},
   "outputs": [],
   "source": [
    "x = np.array([1,0,0])\n",
    "y = np.array([0,1,0])\n",
    "z = np.array([0,0,1])"
   ]
  },
  {
   "cell_type": "code",
   "execution_count": 169,
   "metadata": {},
   "outputs": [
    {
     "data": {
      "text/plain": [
       "0.0"
      ]
     },
     "execution_count": 169,
     "metadata": {},
     "output_type": "execute_result"
    }
   ],
   "source": [
    "cos_phi = np.dot(x,y) / (norm(x)*norm(y)*norm(z))\n",
    "cos_phi                 #0 => образуют"
   ]
  },
  {
   "cell_type": "code",
   "execution_count": null,
   "metadata": {},
   "outputs": [],
   "source": []
  }
 ],
 "metadata": {
  "kernelspec": {
   "display_name": "Python 3",
   "language": "python",
   "name": "python3"
  },
  "language_info": {
   "codemirror_mode": {
    "name": "ipython",
    "version": 3
   },
   "file_extension": ".py",
   "mimetype": "text/x-python",
   "name": "python",
   "nbconvert_exporter": "python",
   "pygments_lexer": "ipython3",
   "version": "3.7.4"
  }
 },
 "nbformat": 4,
 "nbformat_minor": 2
}
